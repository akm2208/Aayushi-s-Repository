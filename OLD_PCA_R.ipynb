{
  "nbformat": 4,
  "nbformat_minor": 0,
  "metadata": {
    "colab": {
      "provenance": []
    },
    "kernelspec": {
      "name": "ir",
      "display_name": "R"
    },
    "language_info": {
      "name": "R"
    }
  },
  "cells": [
    {
      "cell_type": "code",
      "execution_count": null,
      "metadata": {
        "id": "HTrFuhFqvwYH",
        "colab": {
          "base_uri": "https://localhost:8080/"
        },
        "outputId": "844c0f2d-050b-4b56-ddda-d0c314f63592"
      },
      "outputs": [
        {
          "output_type": "stream",
          "name": "stderr",
          "text": [
            "Installing package into ‘/usr/local/lib/R/site-library’\n",
            "(as ‘lib’ is unspecified)\n",
            "\n",
            "── \u001b[1mAttaching core tidyverse packages\u001b[22m ──────────────────────── tidyverse 2.0.0 ──\n",
            "\u001b[32m✔\u001b[39m \u001b[34mdplyr    \u001b[39m 1.1.4     \u001b[32m✔\u001b[39m \u001b[34mreadr    \u001b[39m 2.1.5\n",
            "\u001b[32m✔\u001b[39m \u001b[34mforcats  \u001b[39m 1.0.0     \u001b[32m✔\u001b[39m \u001b[34mstringr  \u001b[39m 1.5.1\n",
            "\u001b[32m✔\u001b[39m \u001b[34mggplot2  \u001b[39m 3.4.4     \u001b[32m✔\u001b[39m \u001b[34mtibble   \u001b[39m 3.2.1\n",
            "\u001b[32m✔\u001b[39m \u001b[34mlubridate\u001b[39m 1.9.3     \u001b[32m✔\u001b[39m \u001b[34mtidyr    \u001b[39m 1.3.1\n",
            "\u001b[32m✔\u001b[39m \u001b[34mpurrr    \u001b[39m 1.0.2     \n",
            "── \u001b[1mConflicts\u001b[22m ────────────────────────────────────────── tidyverse_conflicts() ──\n",
            "\u001b[31m✖\u001b[39m \u001b[34mpurrr\u001b[39m::\u001b[32m%||%()\u001b[39m   masks \u001b[34mbase\u001b[39m::%||%()\n",
            "\u001b[31m✖\u001b[39m \u001b[34mdplyr\u001b[39m::\u001b[32mfilter()\u001b[39m masks \u001b[34mstats\u001b[39m::filter()\n",
            "\u001b[31m✖\u001b[39m \u001b[34mdplyr\u001b[39m::\u001b[32mlag()\u001b[39m    masks \u001b[34mstats\u001b[39m::lag()\n",
            "\u001b[36mℹ\u001b[39m Use the conflicted package (\u001b[3m\u001b[34m<http://conflicted.r-lib.org/>\u001b[39m\u001b[23m) to force all conflicts to become errors\n",
            "Installing package into ‘/usr/local/lib/R/site-library’\n",
            "(as ‘lib’ is unspecified)\n",
            "\n"
          ]
        }
      ],
      "source": [
        "# 1. Install and load necessary R packages in Colab\n",
        "install.packages(\"tidyverse\")  # For data manipulation\n",
        "library(tidyverse)\n",
        "\n",
        "install.packages(\"ggplot2\")    # For plotting\n",
        "library(ggplot2)"
      ]
    },
    {
      "cell_type": "code",
      "source": [
        "# 2. Load the data from CSV file\n",
        "data <- read.csv('/content/historic_climate_akm.csv')"
      ],
      "metadata": {
        "id": "NUxuYyucwvpP"
      },
      "execution_count": null,
      "outputs": []
    },
    {
      "cell_type": "code",
      "source": [
        "# Correct the column selection for standardization\n",
        "data_normalized <- scale(data[, 4:10])  # Standardize from the 4th to the 10th column\n",
        "\n",
        "# Proceed with PCA\n",
        "pca_result <- prcomp(data_normalized, center = TRUE, scale. = TRUE)\n",
        "\n",
        "# Examine the summary of PCA\n",
        "summary(pca_result)\n",
        "\n"
      ],
      "metadata": {
        "id": "wnjl2W2xwmu-",
        "colab": {
          "base_uri": "https://localhost:8080/",
          "height": 104
        },
        "outputId": "e1dce377-c8de-41df-e14b-c59430a7fd31"
      },
      "execution_count": 24,
      "outputs": [
        {
          "output_type": "display_data",
          "data": {
            "text/plain": [
              "Importance of components:\n",
              "                          PC1    PC2     PC3    PC4     PC5     PC6     PC7\n",
              "Standard deviation     2.0908 1.1731 0.78919 0.5487 0.40639 0.31880 0.24837\n",
              "Proportion of Variance 0.6245 0.1966 0.08897 0.0430 0.02359 0.01452 0.00881\n",
              "Cumulative Proportion  0.6245 0.8211 0.91007 0.9531 0.97667 0.99119 1.00000"
            ]
          },
          "metadata": {}
        }
      ]
    },
    {
      "cell_type": "code",
      "source": [
        "# 4. Perform PCA\n",
        "pca_result <- prcomp(data_normalized, center = TRUE, scale. = TRUE)"
      ],
      "metadata": {
        "id": "ez_bYaUAwlpr"
      },
      "execution_count": null,
      "outputs": []
    },
    {
      "cell_type": "code",
      "source": [
        "# 5. Examine the summary of PCA\n",
        "summary(pca_result)\n"
      ],
      "metadata": {
        "id": "suWzhMmtwkvG",
        "colab": {
          "base_uri": "https://localhost:8080/",
          "height": 104
        },
        "outputId": "0815d69f-2366-4430-c498-570a731361d8"
      },
      "execution_count": null,
      "outputs": [
        {
          "output_type": "display_data",
          "data": {
            "text/plain": [
              "Importance of components:\n",
              "                          PC1    PC2     PC3    PC4     PC5     PC6     PC7\n",
              "Standard deviation     2.0908 1.1731 0.78919 0.5487 0.40639 0.31880 0.24837\n",
              "Proportion of Variance 0.6245 0.1966 0.08897 0.0430 0.02359 0.01452 0.00881\n",
              "Cumulative Proportion  0.6245 0.8211 0.91007 0.9531 0.97667 0.99119 1.00000"
            ]
          },
          "metadata": {}
        }
      ]
    },
    {
      "cell_type": "code",
      "source": [
        "# Load the future climate data\n",
        "future_data <- read.csv('/content/future_climate_akm.csv')\n",
        "\n",
        "# Ensure future_data has the same structure, particularly the same columns used in PCA\n",
        "str(future_data)  # Check structure, make sure columns 4 to 10 are the ones used in PCA\n",
        "\n",
        "# Standardize the future data using the historical data's means and SDs\n",
        "future_data_normalized <- scale(future_data[, 4:10], center = attr(data_normalized, \"scaled:center\"), scale = attr(data_normalized, \"scaled:scale\"))\n",
        "\n",
        "# Apply the PCA model to the future data\n",
        "future_scores <- predict(pca_result, newdata = future_data_normalized)\n",
        "\n",
        "# Creating a new data frame to store future PCA scores along with the scenario identifiers\n",
        "future_scores_df <- as.data.frame(future_scores)\n",
        "future_scores_df$scenario <- future_data$scenario\n",
        "future_scores_df$year <- future_data$year  # Include year column from the original data\n",
        "\n",
        "# Calculate weighted scores\n",
        "weights <- c(0.6245, 0.1966, 0.08897, 0.04300, 0.02359, 0.01452, 0.00881)\n",
        "future_scores_df$weighted_score <- rowSums(future_scores_df[, c(\"PC1\", \"PC2\", \"PC3\", \"PC4\", \"PC5\", \"PC6\", \"PC7\")] * weights)\n",
        "\n",
        "# Normalize to a 0-5 scale\n",
        "max_score <- max(future_scores_df$weighted_score, na.rm = TRUE)\n",
        "future_scores_df$normalized_score <- (future_scores_df$weighted_score / max_score) * 5\n",
        "\n"
      ],
      "metadata": {
        "colab": {
          "base_uri": "https://localhost:8080/"
        },
        "id": "dPpw6OsEHIjK",
        "outputId": "eb4d2099-9d09-401e-b1fb-c77f07832790"
      },
      "execution_count": 25,
      "outputs": [
        {
          "output_type": "stream",
          "name": "stdout",
          "text": [
            "'data.frame':\t58806 obs. of  10 variables:\n",
            " $ iso3                   : chr  \"AFG\" \"AFG\" \"AFG\" \"AFG\" ...\n",
            " $ scenario               : chr  \"ssp1_26\" \"ssp1_26\" \"ssp1_26\" \"ssp1_26\" ...\n",
            " $ year                   : int  2020 2021 2022 2023 2024 2025 2026 2027 2028 2029 ...\n",
            " $ cld_excess_mortality   : num  604 602 601 599 598 ...\n",
            " $ cld_heating_degree_days: num  3687 3677 3666 3656 3645 ...\n",
            " $ hsa_killing_degree_days: num  0.4 0.415 0.43 0.445 0.46 0.475 0.49 0.505 0.52 0.535 ...\n",
            " $ hsi_cooling_degree_days: num  886 889 893 896 900 ...\n",
            " $ hsi_excess_mortality   : num  23.8 28.6 33.3 38.1 42.9 ...\n",
            " $ hsw_gdp_loss           : num  4.3 4.32 4.33 4.34 4.36 ...\n",
            " $ hsw_productivity_loss  : num  10.8 10.8 10.9 10.9 10.9 ...\n"
          ]
        }
      ]
    },
    {
      "cell_type": "code",
      "source": [
        "# Assuming future_scores_df is your dataframe that includes PCA scores and scenario identifiers\n",
        "weights <- c(0.6245, 0.1966, 0.08897, 0.04300, 0.02359, 0.01452, 0.00881)\n",
        "\n",
        "# Calculate weighted scores\n",
        "future_scores_df$weighted_score <- rowSums(future_scores_df[, c(\"PC1\", \"PC2\", \"PC3\", \"PC4\", \"PC5\", \"PC6\", \"PC7\")] * weights)\n"
      ],
      "metadata": {
        "id": "hi2IUw13QuHK"
      },
      "execution_count": null,
      "outputs": []
    },
    {
      "cell_type": "code",
      "source": [
        "# Normalize to a 0-5 scale\n",
        "max_score <- max(future_scores_df$weighted_score, na.rm = TRUE)\n",
        "future_scores_df$normalized_score <- (future_scores_df$weighted_score / max_score) * 5\n"
      ],
      "metadata": {
        "id": "odphi8rGQxLi"
      },
      "execution_count": null,
      "outputs": []
    },
    {
      "cell_type": "code",
      "source": [
        "str(future_scores_df)"
      ],
      "metadata": {
        "colab": {
          "base_uri": "https://localhost:8080/"
        },
        "id": "eWSZJ3IGRB2a",
        "outputId": "41560671-9053-4f49-9bda-5db89d33e76a"
      },
      "execution_count": null,
      "outputs": [
        {
          "output_type": "stream",
          "name": "stdout",
          "text": [
            "'data.frame':\t58806 obs. of  11 variables:\n",
            " $ PC1             : num  -2.32 -2.31 -2.29 -2.28 -2.27 ...\n",
            " $ PC2             : num  -0.932 -0.904 -0.876 -0.849 -0.821 ...\n",
            " $ PC3             : num  1.84 1.86 1.87 1.89 1.9 ...\n",
            " $ PC4             : num  -1.2 -1.18 -1.17 -1.16 -1.14 ...\n",
            " $ PC5             : num  -1.47 -1.47 -1.47 -1.46 -1.46 ...\n",
            " $ PC6             : num  0.0539 0.0516 0.0494 0.0471 0.0449 ...\n",
            " $ PC7             : num  0.0701 0.0639 0.0578 0.0517 0.0455 ...\n",
            " $ scenario        : chr  \"ssp1_26\" \"ssp1_26\" \"ssp1_26\" \"ssp1_26\" ...\n",
            " $ year            : int  2020 2021 2022 2023 2024 2025 2026 2027 2028 2029 ...\n",
            " $ weighted_score  : num  -1.505 -1.046 0.764 -0.536 -1.055 ...\n",
            " $ normalized_score: num  -0.02022 -0.01405 0.01027 -0.00721 -0.01417 ...\n"
          ]
        }
      ]
    },
    {
      "cell_type": "code",
      "source": [
        "# Assuming future_scores_df already includes 'iso3', 'year', and 'scenario' columns\n",
        "# and you've calculated both 'weighted_score' and 'normalized_score'\n",
        "\n",
        "library(dplyr)\n",
        "\n",
        "# Select and arrange the necessary columns to include both scores\n",
        "country_year_scenario_scores <- future_scores_df %>%\n",
        "  select(iso3, year, scenario, weighted_score, normalized_score) %>%\n",
        "  arrange(iso3, year, scenario)\n",
        "\n",
        "# View the first few rows of the table\n",
        "head(country_year_scenario_scores)\n",
        "\n",
        "# Optionally, write this table to a CSV file for further use\n",
        "write.csv(country_year_scenario_scores, \"country_year_scenario_scores_full.csv\", row.names = FALSE)\n"
      ],
      "metadata": {
        "colab": {
          "base_uri": "https://localhost:8080/",
          "height": 286
        },
        "id": "OhygvzyWR8R7",
        "outputId": "c13e4a8d-9cff-4ca6-8497-238c9a59aa72"
      },
      "execution_count": null,
      "outputs": [
        {
          "output_type": "display_data",
          "data": {
            "text/html": [
              "<table class=\"dataframe\">\n",
              "<caption>A data.frame: 6 × 5</caption>\n",
              "<thead>\n",
              "\t<tr><th></th><th scope=col>iso3</th><th scope=col>year</th><th scope=col>scenario</th><th scope=col>weighted_score</th><th scope=col>normalized_score</th></tr>\n",
              "\t<tr><th></th><th scope=col>&lt;chr&gt;</th><th scope=col>&lt;int&gt;</th><th scope=col>&lt;chr&gt;</th><th scope=col>&lt;dbl&gt;</th><th scope=col>&lt;dbl&gt;</th></tr>\n",
              "</thead>\n",
              "<tbody>\n",
              "\t<tr><th scope=row>1</th><td>ABW</td><td>2020</td><td>ssp1_26</td><td>-0.36075761</td><td>-0.004846609</td></tr>\n",
              "\t<tr><th scope=row>2</th><td>ABW</td><td>2020</td><td>ssp3_70</td><td> 0.07566148</td><td> 0.001016477</td></tr>\n",
              "\t<tr><th scope=row>3</th><td>ABW</td><td>2020</td><td>ssp5_85</td><td>-0.21604197</td><td>-0.002902423</td></tr>\n",
              "\t<tr><th scope=row>4</th><td>ABW</td><td>2021</td><td>ssp1_26</td><td>-0.18052041</td><td>-0.002425207</td></tr>\n",
              "\t<tr><th scope=row>5</th><td>ABW</td><td>2021</td><td>ssp3_70</td><td> 0.42770154</td><td> 0.005745970</td></tr>\n",
              "\t<tr><th scope=row>6</th><td>ABW</td><td>2021</td><td>ssp5_85</td><td> 1.67788071</td><td> 0.022541540</td></tr>\n",
              "</tbody>\n",
              "</table>\n"
            ],
            "text/markdown": "\nA data.frame: 6 × 5\n\n| <!--/--> | iso3 &lt;chr&gt; | year &lt;int&gt; | scenario &lt;chr&gt; | weighted_score &lt;dbl&gt; | normalized_score &lt;dbl&gt; |\n|---|---|---|---|---|---|\n| 1 | ABW | 2020 | ssp1_26 | -0.36075761 | -0.004846609 |\n| 2 | ABW | 2020 | ssp3_70 |  0.07566148 |  0.001016477 |\n| 3 | ABW | 2020 | ssp5_85 | -0.21604197 | -0.002902423 |\n| 4 | ABW | 2021 | ssp1_26 | -0.18052041 | -0.002425207 |\n| 5 | ABW | 2021 | ssp3_70 |  0.42770154 |  0.005745970 |\n| 6 | ABW | 2021 | ssp5_85 |  1.67788071 |  0.022541540 |\n\n",
            "text/latex": "A data.frame: 6 × 5\n\\begin{tabular}{r|lllll}\n  & iso3 & year & scenario & weighted\\_score & normalized\\_score\\\\\n  & <chr> & <int> & <chr> & <dbl> & <dbl>\\\\\n\\hline\n\t1 & ABW & 2020 & ssp1\\_26 & -0.36075761 & -0.004846609\\\\\n\t2 & ABW & 2020 & ssp3\\_70 &  0.07566148 &  0.001016477\\\\\n\t3 & ABW & 2020 & ssp5\\_85 & -0.21604197 & -0.002902423\\\\\n\t4 & ABW & 2021 & ssp1\\_26 & -0.18052041 & -0.002425207\\\\\n\t5 & ABW & 2021 & ssp3\\_70 &  0.42770154 &  0.005745970\\\\\n\t6 & ABW & 2021 & ssp5\\_85 &  1.67788071 &  0.022541540\\\\\n\\end{tabular}\n",
            "text/plain": [
              "  iso3 year scenario weighted_score normalized_score\n",
              "1 ABW  2020 ssp1_26  -0.36075761    -0.004846609    \n",
              "2 ABW  2020 ssp3_70   0.07566148     0.001016477    \n",
              "3 ABW  2020 ssp5_85  -0.21604197    -0.002902423    \n",
              "4 ABW  2021 ssp1_26  -0.18052041    -0.002425207    \n",
              "5 ABW  2021 ssp3_70   0.42770154     0.005745970    \n",
              "6 ABW  2021 ssp5_85   1.67788071     0.022541540    "
            ]
          },
          "metadata": {}
        }
      ]
    }
  ]
}
